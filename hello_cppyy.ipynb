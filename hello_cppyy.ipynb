{
 "cells": [
  {
   "cell_type": "code",
   "execution_count": 1,
   "id": "2d48d87e-3a6b-4327-b85e-ffda54a8f82f",
   "metadata": {},
   "outputs": [],
   "source": [
    "import cppyy"
   ]
  },
  {
   "cell_type": "code",
   "execution_count": 2,
   "id": "7fb5d289-5749-4ee5-8231-09f3fb10644a",
   "metadata": {},
   "outputs": [
    {
     "data": {
      "text/plain": [
       "True"
      ]
     },
     "execution_count": 2,
     "metadata": {},
     "output_type": "execute_result"
    }
   ],
   "source": [
    "cppyy.cppdef(r\"\"\"char *get_current_dir_name(void);\n",
    "\"\"\"\n",
    "            )"
   ]
  },
  {
   "cell_type": "code",
   "execution_count": 3,
   "id": "e2667394-ec78-4715-a803-4c94682d26c1",
   "metadata": {},
   "outputs": [],
   "source": [
    "get_current_dir_name=cppyy.gbl.get_current_dir_name"
   ]
  },
  {
   "cell_type": "code",
   "execution_count": null,
   "id": "94df718d-0261-416e-8d4a-7a7b053ace16",
   "metadata": {},
   "outputs": [],
   "source": [
    "get_current_dir_name()"
   ]
  },
  {
   "cell_type": "code",
   "execution_count": 5,
   "id": "a60bb333-6858-4220-a517-7bdb94a787d1",
   "metadata": {},
   "outputs": [
    {
     "data": {
      "text/plain": [
       "True"
      ]
     },
     "execution_count": 5,
     "metadata": {},
     "output_type": "execute_result"
    }
   ],
   "source": [
    "cppyy.cppdef(r'''\n",
    "#include <cstdio> \n",
    "#include <iostream>\n",
    "''')"
   ]
  },
  {
   "cell_type": "code",
   "execution_count": 6,
   "id": "d5e87715-5f7c-4a85-9a1e-9b00596632cb",
   "metadata": {},
   "outputs": [
    {
     "data": {
      "text/plain": [
       "<namespace cppyy.gbl at 0x2730e10>"
      ]
     },
     "execution_count": 6,
     "metadata": {},
     "output_type": "execute_result"
    }
   ],
   "source": [
    "cppyy.gbl"
   ]
  },
  {
   "cell_type": "code",
   "execution_count": null,
   "id": "37ceffd7-1872-4459-957d-34e8a7fad019",
   "metadata": {},
   "outputs": [],
   "source": []
  }
 ],
 "metadata": {
  "kernelspec": {
   "display_name": "Python 3",
   "language": "python",
   "name": "python3"
  },
  "language_info": {
   "codemirror_mode": {
    "name": "ipython",
    "version": 3
   },
   "file_extension": ".py",
   "mimetype": "text/x-python",
   "name": "python",
   "nbconvert_exporter": "python",
   "pygments_lexer": "ipython3",
   "version": "3.9.2"
  }
 },
 "nbformat": 4,
 "nbformat_minor": 5
}
